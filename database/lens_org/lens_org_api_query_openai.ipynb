{
 "cells": [
  {
   "cell_type": "code",
   "execution_count": 36,
   "outputs": [],
   "source": [
    "import requests\n",
    "import json\n",
    "import pandas as pd\n",
    "import os\n",
    "import openai"
   ],
   "metadata": {
    "collapsed": false
   }
  },
  {
   "cell_type": "code",
   "execution_count": 3,
   "outputs": [],
   "source": [
    "with open(\"/Users/julia_patsiukova/Downloads/api_keys/api_lens_org.txt\", \"r\") as file:\n",
    "    lens_api_key = file.read().strip()\n",
    "\n",
    "os.environ[\"LENS_API_KEY\"] = lens_api_key\n",
    "\n",
    "url = 'https://api.lens.org/patent/search'"
   ],
   "metadata": {
    "collapsed": false
   }
  },
  {
   "cell_type": "code",
   "execution_count": 6,
   "outputs": [],
   "source": [
    "query = {\n",
    "    \"query\": {\n",
    "        \"bool\": {\n",
    "            \"must\": [\n",
    "                {\n",
    "                    \"query_string\": {\n",
    "                        \"query\": \"\\\"ASO\\\" OR \\\"antisense oligonucleotides\\\"\",\n",
    "                        \"fields\": [\"title\", \"abstract\", \"claims\"],\n",
    "                        \"default_operator\": \"OR\"\n",
    "                    }\n",
    "                }\n",
    "            ]\n",
    "        }\n",
    "    },\n",
    "    \"size\": 13\n",
    "}\n",
    "\n",
    "headers = {\n",
    "    'Authorization': f'Bearer {lens_api_key}',\n",
    "    'Content-Type': 'application/json'\n",
    "}\n",
    "\n",
    "response = requests.post(url, headers=headers, data=json.dumps(query))\n",
    "\n",
    "if response.status_code == 200:\n",
    "    data = response.json()\n",
    "else:\n",
    "    print(f\"Error: {response.status_code} - {response.text}\")"
   ],
   "metadata": {
    "collapsed": false
   }
  },
  {
   "cell_type": "code",
   "execution_count": 21,
   "outputs": [
    {
     "name": "stdout",
     "output_type": "stream",
     "text": [
      "total\n",
      "  int\n",
      "max_score\n",
      "  float\n",
      "data\n",
      "  [Array of dict]\n",
      "    lens_id\n",
      "      str\n",
      "    jurisdiction\n",
      "      str\n",
      "    doc_number\n",
      "      str\n",
      "    kind\n",
      "      str\n",
      "    date_published\n",
      "      str\n",
      "    doc_key\n",
      "      str\n",
      "    docdb_id\n",
      "      int\n",
      "    lang\n",
      "      str\n",
      "    biblio\n",
      "      publication_reference\n",
      "        jurisdiction\n",
      "          str\n",
      "        doc_number\n",
      "          str\n",
      "        kind\n",
      "          str\n",
      "        date\n",
      "          str\n",
      "      application_reference\n",
      "        jurisdiction\n",
      "          str\n",
      "        doc_number\n",
      "          str\n",
      "        kind\n",
      "          str\n",
      "        date\n",
      "          str\n",
      "      priority_claims\n",
      "        claims\n",
      "          [Array of dict]\n",
      "            jurisdiction\n",
      "              str\n",
      "            doc_number\n",
      "              str\n",
      "            kind\n",
      "              str\n",
      "            date\n",
      "              str\n",
      "            sequence\n",
      "              int\n",
      "        earliest_claim\n",
      "          date\n",
      "            str\n",
      "      invention_title\n",
      "        [Array of dict]\n",
      "          text\n",
      "            str\n",
      "          lang\n",
      "            str\n",
      "      parties\n",
      "        applicants\n",
      "          [Array of dict]\n",
      "            residence\n",
      "              str\n",
      "            extracted_name\n",
      "              value\n",
      "                str\n",
      "        inventors\n",
      "          [Array of dict]\n",
      "            residence\n",
      "              str\n",
      "            sequence\n",
      "              int\n",
      "            extracted_name\n",
      "              value\n",
      "                str\n",
      "        agents\n",
      "          [Array of dict]\n",
      "            extracted_name\n",
      "              value\n",
      "                str\n",
      "            extracted_address\n",
      "              str\n",
      "            extracted_country\n",
      "              str\n",
      "      classifications_ipcr\n",
      "        classifications\n",
      "          [Array of dict]\n",
      "            symbol\n",
      "              str\n",
      "            classification_value\n",
      "              str\n",
      "            classification_symbol_position\n",
      "              str\n",
      "      classifications_cpc\n",
      "        classifications\n",
      "          [Array of dict]\n",
      "            symbol\n",
      "              str\n",
      "            classification_value\n",
      "              str\n",
      "            classification_symbol_position\n",
      "              str\n",
      "      references_cited\n",
      "        citations\n",
      "          [Array of dict]\n",
      "            sequence\n",
      "              int\n",
      "            patcit\n",
      "              document_id\n",
      "                jurisdiction\n",
      "                  str\n",
      "                doc_number\n",
      "                  str\n",
      "                kind\n",
      "                  str\n",
      "                date\n",
      "                  str\n",
      "              lens_id\n",
      "                str\n",
      "            category\n",
      "              [Array of str]\n",
      "                str\n",
      "            cited_phase\n",
      "              str\n",
      "        patent_count\n",
      "          int\n",
      "      cited_by\n",
      "    families\n",
      "      simple_family\n",
      "        members\n",
      "          [Array of dict]\n",
      "            document_id\n",
      "              jurisdiction\n",
      "                str\n",
      "              doc_number\n",
      "                str\n",
      "              kind\n",
      "                str\n",
      "              date\n",
      "                str\n",
      "            lens_id\n",
      "              str\n",
      "        size\n",
      "          int\n",
      "      extended_family\n",
      "        members\n",
      "          [Array of dict]\n",
      "            document_id\n",
      "              jurisdiction\n",
      "                str\n",
      "              doc_number\n",
      "                str\n",
      "              kind\n",
      "                str\n",
      "              date\n",
      "                str\n",
      "            lens_id\n",
      "              str\n",
      "        size\n",
      "          int\n",
      "    sequence_listing\n",
      "      sequence_types\n",
      "        [Array of str]\n",
      "          str\n",
      "      length_buckets\n",
      "        [Array of str]\n",
      "          str\n",
      "      organisms\n",
      "        [Array of dict]\n",
      "          tax_id\n",
      "            int\n",
      "          name\n",
      "            str\n",
      "      count\n",
      "        int\n",
      "    legal_status\n",
      "      calculation_log\n",
      "        [Array of str]\n",
      "          str\n",
      "      patent_status\n",
      "        str\n",
      "    abstract\n",
      "      [Array of dict]\n",
      "        text\n",
      "          str\n",
      "        lang\n",
      "          str\n",
      "    claims\n",
      "      [Array of dict]\n",
      "        claims\n",
      "          [Array of dict]\n",
      "            claim_text\n",
      "              [Array of str]\n",
      "                str\n",
      "        lang\n",
      "          str\n",
      "    description\n",
      "      text\n",
      "        str\n",
      "      lang\n",
      "        str\n",
      "    publication_type\n",
      "      str\n",
      "results\n",
      "  int\n"
     ]
    }
   ],
   "source": [
    "# the json structure of the outcome\n",
    "def print_json_structure(data, indent=0):\n",
    "    if isinstance(data, dict):\n",
    "        for key in data:\n",
    "            print('  ' * indent + str(key))\n",
    "            print_json_structure(data[key], indent + 1)\n",
    "    elif isinstance(data, list) and len(data) > 0:\n",
    "        print('  ' * indent + '[Array of {}]'.format(type(data[0]).__name__))\n",
    "        print_json_structure(data[0], indent + 1)\n",
    "    else:\n",
    "        print('  ' * indent + str(type(data).__name__))\n",
    "\n",
    "if response.status_code == 200:\n",
    "    data = response.json()\n",
    "    print_json_structure(data)\n",
    "else:\n",
    "    print(f\"Error: {response.status_code} - {response.text}\")"
   ],
   "metadata": {
    "collapsed": false
   }
  },
  {
   "cell_type": "code",
   "execution_count": 8,
   "outputs": [],
   "source": [
    "data_list = []\n",
    "\n",
    "for patent in data.get('data', []):\n",
    "    lens_id = patent.get('lens_id', 'N/A')\n",
    "\n",
    "    title = patent.get('biblio', {}).get('invention_title', [{}])[0].get('text', 'N/A')\n",
    "\n",
    "    abstract = patent.get('abstract', [{}])[0].get('text', 'N/A')\n",
    "\n",
    "    claims = \" \".join(patent.get('claims', [{}])[0].get('claims', [{}])[0].get('claim_text', [\"N/A\"]))\n",
    "\n",
    "    description = patent.get('description', {}).get('text', 'N/A')\n",
    "\n",
    "    data_list.append({\n",
    "        'Lens ID': lens_id,\n",
    "        'Title': title,\n",
    "        'Abstract': abstract,\n",
    "        'Claims': claims,\n",
    "        'Description': description\n",
    "    })\n",
    "\n",
    "df = pd.DataFrame(data_list)"
   ],
   "metadata": {
    "collapsed": false
   }
  },
  {
   "cell_type": "code",
   "execution_count": 12,
   "outputs": [
    {
     "data": {
      "text/plain": "9530"
     },
     "execution_count": 12,
     "metadata": {},
     "output_type": "execute_result"
    }
   ],
   "source": [
    "len(df['Description'][3])"
   ],
   "metadata": {
    "collapsed": false
   }
  },
  {
   "cell_type": "code",
   "execution_count": 9,
   "outputs": [
    {
     "data": {
      "text/plain": "                Lens ID                                              Title  \\\n0   006-252-632-930-02X  Antisense oligonucleotides targeting non-codin...   \n1   035-902-563-142-209  Antisense oligonucleotide (ASO) gene inhibitio...   \n2   073-575-549-953-147  ANTISENSE OLIGONUCLEOTIDE (ASO) GENE INHIBITIO...   \n3   088-236-812-481-174  ANTISENSE OLIGONUCLEOTIDE (ASO) GENE INHIBITIO...   \n4   093-656-511-507-299                         ANTISENSE OLIGONUCLEOTIDES   \n5   103-752-500-267-462        Antisense oligonucleotides and uses thereof   \n6   114-832-383-274-557  ANTISENSE OLIGONUCLEOTIDE (ASO) GENE INHIBITIO...   \n7   117-058-033-153-332  ANTISENSE OLIGONUCLEOTIDE (ASO) GENE INHIBITIO...   \n8   148-957-118-252-691  Antisense Oligonucleotide (ASO) Gene Inhibitio...   \n9   156-638-061-645-268  INHIBICION GENICA Y TRATAMIENTO MEDIANTE SECUE...   \n10  167-754-903-057-153  ANTISENSE OLIGONUCLEOTIDE (ASO) GENE INHIBITIO...   \n11  184-044-959-901-843  ANTISENSE OLIGONUCLEOTIDE (ASO) GENE INHIBITIO...   \n12  195-671-825-676-507  ANTISENSE OLIGONUCLEOTIDE (ASO) GENE INHIBITIO...   \n\n                                             Abstract  \\\n0   The invention discloses antisense oligonucleot...   \n1   Embodiments of the present invention relate ge...   \n2   Embodiments of the invention related generally...   \n3   Embodiments of the invention related generally...   \n4   Provided herein include conditionally activata...   \n5   Disclosed herein are novel single strand antis...   \n6   Embodiments of the invention related generally...   \n7   Embodiments of the invention related generally...   \n8   Embodiments of the invention related generally...   \n9   Embodiments of the invention related generally...   \n10  Embodiments of the invention related generally...   \n11  Embodiments of the invention related generally...   \n12  Embodiments of the invention related generally...   \n\n                                               Claims  \\\n0                                                 N/A   \n1                                                 N/A   \n2                                                 N/A   \n3   CLAIMS 1. A method of treating a patient diagn...   \n4   WHAT IS CLAIMED IS: 1. An oligonucleotide, com...   \n5                                                 N/A   \n6                                                 N/A   \n7                                                 N/A   \n8   1 . A method of treating a patient diagnosed w...   \n9                                                 N/A   \n10  CLAIMS 1. A method of treating a patient diagn...   \n11                                                N/A   \n12  CLAIMS 1. A method of treating a patient diagn...   \n\n                                          Description  \n0                                                 N/A  \n1                                                 N/A  \n2                                                 N/A  \n3   Antisense Oligonucleotide (ASO) Gene Inhibitio...  \n4   ANTISENSE OLIGONUCLEOTIDES CROSS-REFERENCE TO ...  \n5                                                 N/A  \n6                                                 N/A  \n7                                                 N/A  \n8   CROSS-REFERENCE TO RELATED APPLICATIONS This a...  \n9                                                 N/A  \n10  Antisense Oligonucleotide (ASO) Gene Inhibitio...  \n11                                                N/A  \n12  Antisense Oligonucleotide (ASO) Gene Inhibitio...  ",
      "text/html": "<div>\n<style scoped>\n    .dataframe tbody tr th:only-of-type {\n        vertical-align: middle;\n    }\n\n    .dataframe tbody tr th {\n        vertical-align: top;\n    }\n\n    .dataframe thead th {\n        text-align: right;\n    }\n</style>\n<table border=\"1\" class=\"dataframe\">\n  <thead>\n    <tr style=\"text-align: right;\">\n      <th></th>\n      <th>Lens ID</th>\n      <th>Title</th>\n      <th>Abstract</th>\n      <th>Claims</th>\n      <th>Description</th>\n    </tr>\n  </thead>\n  <tbody>\n    <tr>\n      <th>0</th>\n      <td>006-252-632-930-02X</td>\n      <td>Antisense oligonucleotides targeting non-codin...</td>\n      <td>The invention discloses antisense oligonucleot...</td>\n      <td>N/A</td>\n      <td>N/A</td>\n    </tr>\n    <tr>\n      <th>1</th>\n      <td>035-902-563-142-209</td>\n      <td>Antisense oligonucleotide (ASO) gene inhibitio...</td>\n      <td>Embodiments of the present invention relate ge...</td>\n      <td>N/A</td>\n      <td>N/A</td>\n    </tr>\n    <tr>\n      <th>2</th>\n      <td>073-575-549-953-147</td>\n      <td>ANTISENSE OLIGONUCLEOTIDE (ASO) GENE INHIBITIO...</td>\n      <td>Embodiments of the invention related generally...</td>\n      <td>N/A</td>\n      <td>N/A</td>\n    </tr>\n    <tr>\n      <th>3</th>\n      <td>088-236-812-481-174</td>\n      <td>ANTISENSE OLIGONUCLEOTIDE (ASO) GENE INHIBITIO...</td>\n      <td>Embodiments of the invention related generally...</td>\n      <td>CLAIMS 1. A method of treating a patient diagn...</td>\n      <td>Antisense Oligonucleotide (ASO) Gene Inhibitio...</td>\n    </tr>\n    <tr>\n      <th>4</th>\n      <td>093-656-511-507-299</td>\n      <td>ANTISENSE OLIGONUCLEOTIDES</td>\n      <td>Provided herein include conditionally activata...</td>\n      <td>WHAT IS CLAIMED IS: 1. An oligonucleotide, com...</td>\n      <td>ANTISENSE OLIGONUCLEOTIDES CROSS-REFERENCE TO ...</td>\n    </tr>\n    <tr>\n      <th>5</th>\n      <td>103-752-500-267-462</td>\n      <td>Antisense oligonucleotides and uses thereof</td>\n      <td>Disclosed herein are novel single strand antis...</td>\n      <td>N/A</td>\n      <td>N/A</td>\n    </tr>\n    <tr>\n      <th>6</th>\n      <td>114-832-383-274-557</td>\n      <td>ANTISENSE OLIGONUCLEOTIDE (ASO) GENE INHIBITIO...</td>\n      <td>Embodiments of the invention related generally...</td>\n      <td>N/A</td>\n      <td>N/A</td>\n    </tr>\n    <tr>\n      <th>7</th>\n      <td>117-058-033-153-332</td>\n      <td>ANTISENSE OLIGONUCLEOTIDE (ASO) GENE INHIBITIO...</td>\n      <td>Embodiments of the invention related generally...</td>\n      <td>N/A</td>\n      <td>N/A</td>\n    </tr>\n    <tr>\n      <th>8</th>\n      <td>148-957-118-252-691</td>\n      <td>Antisense Oligonucleotide (ASO) Gene Inhibitio...</td>\n      <td>Embodiments of the invention related generally...</td>\n      <td>1 . A method of treating a patient diagnosed w...</td>\n      <td>CROSS-REFERENCE TO RELATED APPLICATIONS This a...</td>\n    </tr>\n    <tr>\n      <th>9</th>\n      <td>156-638-061-645-268</td>\n      <td>INHIBICION GENICA Y TRATAMIENTO MEDIANTE SECUE...</td>\n      <td>Embodiments of the invention related generally...</td>\n      <td>N/A</td>\n      <td>N/A</td>\n    </tr>\n    <tr>\n      <th>10</th>\n      <td>167-754-903-057-153</td>\n      <td>ANTISENSE OLIGONUCLEOTIDE (ASO) GENE INHIBITIO...</td>\n      <td>Embodiments of the invention related generally...</td>\n      <td>CLAIMS 1. A method of treating a patient diagn...</td>\n      <td>Antisense Oligonucleotide (ASO) Gene Inhibitio...</td>\n    </tr>\n    <tr>\n      <th>11</th>\n      <td>184-044-959-901-843</td>\n      <td>ANTISENSE OLIGONUCLEOTIDE (ASO) GENE INHIBITIO...</td>\n      <td>Embodiments of the invention related generally...</td>\n      <td>N/A</td>\n      <td>N/A</td>\n    </tr>\n    <tr>\n      <th>12</th>\n      <td>195-671-825-676-507</td>\n      <td>ANTISENSE OLIGONUCLEOTIDE (ASO) GENE INHIBITIO...</td>\n      <td>Embodiments of the invention related generally...</td>\n      <td>CLAIMS 1. A method of treating a patient diagn...</td>\n      <td>Antisense Oligonucleotide (ASO) Gene Inhibitio...</td>\n    </tr>\n  </tbody>\n</table>\n</div>"
     },
     "execution_count": 9,
     "metadata": {},
     "output_type": "execute_result"
    }
   ],
   "source": [
    "# example of the created df\n",
    "df"
   ],
   "metadata": {
    "collapsed": false
   }
  },
  {
   "cell_type": "markdown",
   "source": [
    "### GenAI"
   ],
   "metadata": {
    "collapsed": false
   }
  },
  {
   "cell_type": "code",
   "execution_count": 32,
   "outputs": [],
   "source": [
    "import openai\n",
    "with open(\"/Users/julia_patsiukova/Downloads/api_keys/openai_api_key.txt\", \"r\") as file:\n",
    "    openai_api_key = file.read().strip()\n",
    "\n",
    "os.environ[\"OPENAI_API_KEY\"] = openai_api_key\n",
    "MODEL = \"gpt-4o-mini\"\n",
    "\n",
    "columns_to_add = [\n",
    "    'target_gene', 'target_exon', 'target_variant', 'cell_line',\n",
    "    'transfection_approach', 'aso_type', 'oligonucleotide_sequence', 'efficiency'\n",
    "]\n",
    "for col in columns_to_add:\n",
    "    df[col] = None\n",
    "\n",
    "for index, row in df.iterrows():\n",
    "    description = row['Description']\n",
    "\n",
    "    if not description.strip():\n",
    "        for col in columns_to_add:\n",
    "            df.at[index, col] = 'No text'\n",
    "        continue\n",
    "\n",
    "    try:\n",
    "        completion = openai.chat.completions.create(\n",
    "            model=MODEL,\n",
    "            messages=[\n",
    "                {\n",
    "                    \"role\": \"system\",\n",
    "                    \"content\": \"You are an expert bioinformatician who is capable of analyzing scientific literature about antisense oligonucleotides.\"\n",
    "                },\n",
    "                {\n",
    "                    \"role\": \"user\",\n",
    "                    \"content\": f\"\"\"Read this text and retrieve the information about if any:\n",
    "                                - name of the target gene (sequence)\n",
    "                                - name of the target exon\n",
    "                                - name of the target variant\n",
    "                                - cell line\n",
    "                                - transfection approach\n",
    "                                - ASO type\n",
    "                                - oligonucleotide sequence\n",
    "                                - efficiency\n",
    "\n",
    "                                If there is no text to analyze put 'No text'. If there is a text but no information about some bullet points put 'N/A' in corresponding column.\n",
    "\n",
    "                                Text: {description}\n",
    "                                \"\"\"\n",
    "                },\n",
    "            ]\n",
    "        )\n",
    "\n",
    "        completion_json = json.loads(completion.to_json())\n",
    "\n",
    "        response = completion_json[\"choices\"][0][\"message\"][\"content\"]\n",
    "\n",
    "        lines = response.split(\"\\n\")\n",
    "        header = lines[0].split(\"|\")[1:-1]\n",
    "        data_lines = lines[2:]\n",
    "\n",
    "        if data_lines:\n",
    "            first_row = data_lines[0].split(\"|\")[1:-1]\n",
    "            first_row = [cell.strip() for cell in first_row]\n",
    "            for col, value in zip(columns_to_add, first_row):\n",
    "                df.at[index, col] = value\n",
    "        else:\n",
    "            for col in columns_to_add:\n",
    "                df.at[index, col] = 'N/A'\n",
    "\n",
    "    except Exception as e:\n",
    "        print(f\"Error processing row with Lens ID {row['Lens ID']}: {e}\")\n",
    "        for col in columns_to_add:\n",
    "            df.at[index, col] = 'Error'"
   ],
   "metadata": {
    "collapsed": false
   }
  },
  {
   "cell_type": "code",
   "execution_count": 33,
   "outputs": [
    {
     "data": {
      "text/plain": "                Lens ID                                              Title  \\\n0   006-252-632-930-02X  Antisense oligonucleotides targeting non-codin...   \n1   035-902-563-142-209  Antisense oligonucleotide (ASO) gene inhibitio...   \n2   073-575-549-953-147  ANTISENSE OLIGONUCLEOTIDE (ASO) GENE INHIBITIO...   \n3   088-236-812-481-174  ANTISENSE OLIGONUCLEOTIDE (ASO) GENE INHIBITIO...   \n4   093-656-511-507-299                         ANTISENSE OLIGONUCLEOTIDES   \n5   103-752-500-267-462        Antisense oligonucleotides and uses thereof   \n6   114-832-383-274-557  ANTISENSE OLIGONUCLEOTIDE (ASO) GENE INHIBITIO...   \n7   117-058-033-153-332  ANTISENSE OLIGONUCLEOTIDE (ASO) GENE INHIBITIO...   \n8   148-957-118-252-691  Antisense Oligonucleotide (ASO) Gene Inhibitio...   \n9   156-638-061-645-268  INHIBICION GENICA Y TRATAMIENTO MEDIANTE SECUE...   \n10  167-754-903-057-153  ANTISENSE OLIGONUCLEOTIDE (ASO) GENE INHIBITIO...   \n11  184-044-959-901-843  ANTISENSE OLIGONUCLEOTIDE (ASO) GENE INHIBITIO...   \n12  195-671-825-676-507  ANTISENSE OLIGONUCLEOTIDE (ASO) GENE INHIBITIO...   \n\n                                             Abstract  \\\n0   The invention discloses antisense oligonucleot...   \n1   Embodiments of the present invention relate ge...   \n2   Embodiments of the invention related generally...   \n3   Embodiments of the invention related generally...   \n4   Provided herein include conditionally activata...   \n5   Disclosed herein are novel single strand antis...   \n6   Embodiments of the invention related generally...   \n7   Embodiments of the invention related generally...   \n8   Embodiments of the invention related generally...   \n9   Embodiments of the invention related generally...   \n10  Embodiments of the invention related generally...   \n11  Embodiments of the invention related generally...   \n12  Embodiments of the invention related generally...   \n\n                                               Claims  \\\n0                                                 N/A   \n1                                                 N/A   \n2                                                 N/A   \n3   CLAIMS 1. A method of treating a patient diagn...   \n4   WHAT IS CLAIMED IS: 1. An oligonucleotide, com...   \n5                                                 N/A   \n6                                                 N/A   \n7                                                 N/A   \n8   1 . A method of treating a patient diagnosed w...   \n9                                                 N/A   \n10  CLAIMS 1. A method of treating a patient diagn...   \n11                                                N/A   \n12  CLAIMS 1. A method of treating a patient diagn...   \n\n                                          Description  \\\n0                                                 N/A   \n1                                                 N/A   \n2                                                 N/A   \n3   Antisense Oligonucleotide (ASO) Gene Inhibitio...   \n4   ANTISENSE OLIGONUCLEOTIDES CROSS-REFERENCE TO ...   \n5                                                 N/A   \n6                                                 N/A   \n7                                                 N/A   \n8   CROSS-REFERENCE TO RELATED APPLICATIONS This a...   \n9                                                 N/A   \n10  Antisense Oligonucleotide (ASO) Gene Inhibitio...   \n11                                                N/A   \n12  Antisense Oligonucleotide (ASO) Gene Inhibitio...   \n\n                                  target_gene target_exon  \\\n0                                        None        None   \n1                                         N/A         N/A   \n2                                         N/A         N/A   \n3                                        JAK2         N/A   \n4   MAPT (microtubule-associated protein tau)         N/A   \n5                                         N/A         N/A   \n6                                         N/A         N/A   \n7                                         N/A         N/A   \n8                                        JAK2         N/A   \n9                                         N/A         N/A   \n10                                       JAK2         N/A   \n11                                        N/A         N/A   \n12                                       JAK2         N/A   \n\n                    target_variant                    cell_line  \\\n0                             None                         None   \n1                              N/A                          N/A   \n2                              N/A                          N/A   \n3                            V617F                          HEL   \n4   SEQ ID NO: 169, SEQ ID NO: 170  HCT116 colorectal carcinoma   \n5                              N/A                          N/A   \n6                              N/A                          N/A   \n7                              N/A                          N/A   \n8                            V617F                        SET-2   \n9                              N/A                          N/A   \n10                           V617F              SET-2, HEL, CMK   \n11                             N/A                          N/A   \n12                           V617F              SET-2, HEL, CMK   \n\n      transfection_approach                       aso_type  \\\n0                      None                           None   \n1                       N/A                            N/A   \n2                       N/A                            N/A   \n3                       N/A  Phosphorothioate MOE backbone   \n4        Lipofectamine 2000                      Stem-loop   \n5                       N/A                            N/A   \n6                       N/A                            N/A   \n7                       N/A                            N/A   \n8       Incubation with ASO                     ASO-T-JAK2   \n9                       N/A                            N/A   \n10  Cycloheximide treatment                     ASO-T-JAK2   \n11                      N/A                            N/A   \n12                      N/A                     ASO-T-JAK2   \n\n                             oligonucleotide_sequence  \\\n0                                                None   \n1                                                 N/A   \n2                                                 N/A   \n3             5’-UCUCCAGAUUAUGAACUAU-3’ (SEQ ID NO 3)   \n4               SEQ ID NO: 162 (ATTTCCAAATTCACTTTTAC)   \n5                                                 N/A   \n6                                                 N/A   \n7                                                 N/A   \n8   SEQ ID NO 4: 5′-CAAAGAAAGACUAAGGAAA-3′<br>SEQ ...   \n9                                                 N/A   \n10  SEQ ID NO 4: 5’-CAAAGAAAGACUAAGGA A-3’ <br> SE...   \n11                                                N/A   \n12              5’-CAAAGAAAGACUAAGGA-3’ (SEQ ID NO 4)   \n\n                                           efficiency  \n0                                                None  \n1                                                 N/A  \n2                                                 N/A  \n3   Approximately 50% decrease in JAK2 protein lev...  \n4                       21.5 nM IC50 (Seq1-Control 1)  \n5                                                 N/A  \n6                                                 N/A  \n7                                                 N/A  \n8   Significant reduction in RLUs (average < 2,000...  \n9                                                 N/A  \n10  Significant reduction in RLUs to < 2,000,000 c...  \n11                                                N/A  \n12            Significant reduction in cell viability  ",
      "text/html": "<div>\n<style scoped>\n    .dataframe tbody tr th:only-of-type {\n        vertical-align: middle;\n    }\n\n    .dataframe tbody tr th {\n        vertical-align: top;\n    }\n\n    .dataframe thead th {\n        text-align: right;\n    }\n</style>\n<table border=\"1\" class=\"dataframe\">\n  <thead>\n    <tr style=\"text-align: right;\">\n      <th></th>\n      <th>Lens ID</th>\n      <th>Title</th>\n      <th>Abstract</th>\n      <th>Claims</th>\n      <th>Description</th>\n      <th>target_gene</th>\n      <th>target_exon</th>\n      <th>target_variant</th>\n      <th>cell_line</th>\n      <th>transfection_approach</th>\n      <th>aso_type</th>\n      <th>oligonucleotide_sequence</th>\n      <th>efficiency</th>\n    </tr>\n  </thead>\n  <tbody>\n    <tr>\n      <th>0</th>\n      <td>006-252-632-930-02X</td>\n      <td>Antisense oligonucleotides targeting non-codin...</td>\n      <td>The invention discloses antisense oligonucleot...</td>\n      <td>N/A</td>\n      <td>N/A</td>\n      <td>None</td>\n      <td>None</td>\n      <td>None</td>\n      <td>None</td>\n      <td>None</td>\n      <td>None</td>\n      <td>None</td>\n      <td>None</td>\n    </tr>\n    <tr>\n      <th>1</th>\n      <td>035-902-563-142-209</td>\n      <td>Antisense oligonucleotide (ASO) gene inhibitio...</td>\n      <td>Embodiments of the present invention relate ge...</td>\n      <td>N/A</td>\n      <td>N/A</td>\n      <td>N/A</td>\n      <td>N/A</td>\n      <td>N/A</td>\n      <td>N/A</td>\n      <td>N/A</td>\n      <td>N/A</td>\n      <td>N/A</td>\n      <td>N/A</td>\n    </tr>\n    <tr>\n      <th>2</th>\n      <td>073-575-549-953-147</td>\n      <td>ANTISENSE OLIGONUCLEOTIDE (ASO) GENE INHIBITIO...</td>\n      <td>Embodiments of the invention related generally...</td>\n      <td>N/A</td>\n      <td>N/A</td>\n      <td>N/A</td>\n      <td>N/A</td>\n      <td>N/A</td>\n      <td>N/A</td>\n      <td>N/A</td>\n      <td>N/A</td>\n      <td>N/A</td>\n      <td>N/A</td>\n    </tr>\n    <tr>\n      <th>3</th>\n      <td>088-236-812-481-174</td>\n      <td>ANTISENSE OLIGONUCLEOTIDE (ASO) GENE INHIBITIO...</td>\n      <td>Embodiments of the invention related generally...</td>\n      <td>CLAIMS 1. A method of treating a patient diagn...</td>\n      <td>Antisense Oligonucleotide (ASO) Gene Inhibitio...</td>\n      <td>JAK2</td>\n      <td>N/A</td>\n      <td>V617F</td>\n      <td>HEL</td>\n      <td>N/A</td>\n      <td>Phosphorothioate MOE backbone</td>\n      <td>5’-UCUCCAGAUUAUGAACUAU-3’ (SEQ ID NO 3)</td>\n      <td>Approximately 50% decrease in JAK2 protein lev...</td>\n    </tr>\n    <tr>\n      <th>4</th>\n      <td>093-656-511-507-299</td>\n      <td>ANTISENSE OLIGONUCLEOTIDES</td>\n      <td>Provided herein include conditionally activata...</td>\n      <td>WHAT IS CLAIMED IS: 1. An oligonucleotide, com...</td>\n      <td>ANTISENSE OLIGONUCLEOTIDES CROSS-REFERENCE TO ...</td>\n      <td>MAPT (microtubule-associated protein tau)</td>\n      <td>N/A</td>\n      <td>SEQ ID NO: 169, SEQ ID NO: 170</td>\n      <td>HCT116 colorectal carcinoma</td>\n      <td>Lipofectamine 2000</td>\n      <td>Stem-loop</td>\n      <td>SEQ ID NO: 162 (ATTTCCAAATTCACTTTTAC)</td>\n      <td>21.5 nM IC50 (Seq1-Control 1)</td>\n    </tr>\n    <tr>\n      <th>5</th>\n      <td>103-752-500-267-462</td>\n      <td>Antisense oligonucleotides and uses thereof</td>\n      <td>Disclosed herein are novel single strand antis...</td>\n      <td>N/A</td>\n      <td>N/A</td>\n      <td>N/A</td>\n      <td>N/A</td>\n      <td>N/A</td>\n      <td>N/A</td>\n      <td>N/A</td>\n      <td>N/A</td>\n      <td>N/A</td>\n      <td>N/A</td>\n    </tr>\n    <tr>\n      <th>6</th>\n      <td>114-832-383-274-557</td>\n      <td>ANTISENSE OLIGONUCLEOTIDE (ASO) GENE INHIBITIO...</td>\n      <td>Embodiments of the invention related generally...</td>\n      <td>N/A</td>\n      <td>N/A</td>\n      <td>N/A</td>\n      <td>N/A</td>\n      <td>N/A</td>\n      <td>N/A</td>\n      <td>N/A</td>\n      <td>N/A</td>\n      <td>N/A</td>\n      <td>N/A</td>\n    </tr>\n    <tr>\n      <th>7</th>\n      <td>117-058-033-153-332</td>\n      <td>ANTISENSE OLIGONUCLEOTIDE (ASO) GENE INHIBITIO...</td>\n      <td>Embodiments of the invention related generally...</td>\n      <td>N/A</td>\n      <td>N/A</td>\n      <td>N/A</td>\n      <td>N/A</td>\n      <td>N/A</td>\n      <td>N/A</td>\n      <td>N/A</td>\n      <td>N/A</td>\n      <td>N/A</td>\n      <td>N/A</td>\n    </tr>\n    <tr>\n      <th>8</th>\n      <td>148-957-118-252-691</td>\n      <td>Antisense Oligonucleotide (ASO) Gene Inhibitio...</td>\n      <td>Embodiments of the invention related generally...</td>\n      <td>1 . A method of treating a patient diagnosed w...</td>\n      <td>CROSS-REFERENCE TO RELATED APPLICATIONS This a...</td>\n      <td>JAK2</td>\n      <td>N/A</td>\n      <td>V617F</td>\n      <td>SET-2</td>\n      <td>Incubation with ASO</td>\n      <td>ASO-T-JAK2</td>\n      <td>SEQ ID NO 4: 5′-CAAAGAAAGACUAAGGAAA-3′&lt;br&gt;SEQ ...</td>\n      <td>Significant reduction in RLUs (average &lt; 2,000...</td>\n    </tr>\n    <tr>\n      <th>9</th>\n      <td>156-638-061-645-268</td>\n      <td>INHIBICION GENICA Y TRATAMIENTO MEDIANTE SECUE...</td>\n      <td>Embodiments of the invention related generally...</td>\n      <td>N/A</td>\n      <td>N/A</td>\n      <td>N/A</td>\n      <td>N/A</td>\n      <td>N/A</td>\n      <td>N/A</td>\n      <td>N/A</td>\n      <td>N/A</td>\n      <td>N/A</td>\n      <td>N/A</td>\n    </tr>\n    <tr>\n      <th>10</th>\n      <td>167-754-903-057-153</td>\n      <td>ANTISENSE OLIGONUCLEOTIDE (ASO) GENE INHIBITIO...</td>\n      <td>Embodiments of the invention related generally...</td>\n      <td>CLAIMS 1. A method of treating a patient diagn...</td>\n      <td>Antisense Oligonucleotide (ASO) Gene Inhibitio...</td>\n      <td>JAK2</td>\n      <td>N/A</td>\n      <td>V617F</td>\n      <td>SET-2, HEL, CMK</td>\n      <td>Cycloheximide treatment</td>\n      <td>ASO-T-JAK2</td>\n      <td>SEQ ID NO 4: 5’-CAAAGAAAGACUAAGGA A-3’ &lt;br&gt; SE...</td>\n      <td>Significant reduction in RLUs to &lt; 2,000,000 c...</td>\n    </tr>\n    <tr>\n      <th>11</th>\n      <td>184-044-959-901-843</td>\n      <td>ANTISENSE OLIGONUCLEOTIDE (ASO) GENE INHIBITIO...</td>\n      <td>Embodiments of the invention related generally...</td>\n      <td>N/A</td>\n      <td>N/A</td>\n      <td>N/A</td>\n      <td>N/A</td>\n      <td>N/A</td>\n      <td>N/A</td>\n      <td>N/A</td>\n      <td>N/A</td>\n      <td>N/A</td>\n      <td>N/A</td>\n    </tr>\n    <tr>\n      <th>12</th>\n      <td>195-671-825-676-507</td>\n      <td>ANTISENSE OLIGONUCLEOTIDE (ASO) GENE INHIBITIO...</td>\n      <td>Embodiments of the invention related generally...</td>\n      <td>CLAIMS 1. A method of treating a patient diagn...</td>\n      <td>Antisense Oligonucleotide (ASO) Gene Inhibitio...</td>\n      <td>JAK2</td>\n      <td>N/A</td>\n      <td>V617F</td>\n      <td>SET-2, HEL, CMK</td>\n      <td>N/A</td>\n      <td>ASO-T-JAK2</td>\n      <td>5’-CAAAGAAAGACUAAGGA-3’ (SEQ ID NO 4)</td>\n      <td>Significant reduction in cell viability</td>\n    </tr>\n  </tbody>\n</table>\n</div>"
     },
     "execution_count": 33,
     "metadata": {},
     "output_type": "execute_result"
    }
   ],
   "source": [
    "df"
   ],
   "metadata": {
    "collapsed": false
   }
  },
  {
   "cell_type": "code",
   "execution_count": 35,
   "outputs": [
    {
     "name": "stdout",
     "output_type": "stream",
     "text": [
      "| Target Gene | Target Exon | Target Variant | Cell Line      | Transfection Approach | ASO Type      | Oligonucleotide Sequence                      | Efficiency |\n",
      "|-------------|-------------|----------------|-----------------|-----------------------|----------------|-----------------------------------------------|------------|\n",
      "| JAK2        | N/A         | V617F          | SET-2, HEL, CMK | N/A                   | ASO-T-JAK2     | 5’-CAAAGAAAGACUAAGGA-3’ (SEQ ID NO 4)       | Significant reduction in cell viability       |\n",
      "|             |             |                |                 |                       |                | 5’-CA A AGA A AGACU A AGGA A A-3’ (SEQ ID NO 5)|            |\n",
      "| IGHMBP2     | N/A         | C31401 A       | Fibroblast      | N/A                   | ASO-T-IGHMBP2  | UCUUCCCCCUGUGGAAGUG (SEQ ID NO 8)           | N/A        |\n"
     ]
    }
   ],
   "source": [
    "print(completion.choices[0].message.content)"
   ],
   "metadata": {
    "collapsed": false
   }
  }
 ],
 "metadata": {
  "kernelspec": {
   "display_name": "Python 3",
   "language": "python",
   "name": "python3"
  },
  "language_info": {
   "codemirror_mode": {
    "name": "ipython",
    "version": 2
   },
   "file_extension": ".py",
   "mimetype": "text/x-python",
   "name": "python",
   "nbconvert_exporter": "python",
   "pygments_lexer": "ipython2",
   "version": "2.7.6"
  }
 },
 "nbformat": 4,
 "nbformat_minor": 0
}
